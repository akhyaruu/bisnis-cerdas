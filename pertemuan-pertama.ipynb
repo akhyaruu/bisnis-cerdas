{
 "cells": [
  {
   "cell_type": "markdown",
   "metadata": {},
   "source": [
    "## Import Library"
   ]
  },
  {
   "cell_type": "code",
   "execution_count": 2,
   "metadata": {},
   "outputs": [],
   "source": [
    "import pandas as pd"
   ]
  },
  {
   "cell_type": "markdown",
   "metadata": {},
   "source": [
    "## Read Data"
   ]
  },
  {
   "cell_type": "code",
   "execution_count": 3,
   "metadata": {},
   "outputs": [],
   "source": [
    "df = pd.read_csv('data/pertemuan-pertama.csv')"
   ]
  },
  {
   "cell_type": "markdown",
   "metadata": {},
   "source": [
    "## Eksplorasi Data"
   ]
  },
  {
   "cell_type": "code",
   "execution_count": 16,
   "metadata": {
    "scrolled": true
   },
   "outputs": [],
   "source": [
    "## melihat 5 baris pertama\n",
    "# df.head()"
   ]
  },
  {
   "cell_type": "code",
   "execution_count": 22,
   "metadata": {},
   "outputs": [],
   "source": [
    "## melihat jumlah total baris dan kolom\n",
    "# df.shape\n",
    "\n",
    "## mengecek apakah ada kolom yang kosong\n",
    "# df.isna().sum()\n",
    "\n",
    "## mengecek tipe data pada kolom tertentu\n",
    "# df.dtypes\n",
    "\n",
    "## mengecek statistik deskriptif data numerik\n",
    "# df[['BasePay', 'OvertimePay', 'OtherPay', 'Benefits', 'TotalPay', 'TotalPayBenefits']].describe()"
   ]
  },
  {
   "cell_type": "markdown",
   "metadata": {},
   "source": [
    "## Visualisasi Data"
   ]
  },
  {
   "cell_type": "markdown",
   "metadata": {},
   "source": [
    "### 1. Basic Histogram"
   ]
  },
  {
   "cell_type": "code",
   "execution_count": 23,
   "metadata": {},
   "outputs": [],
   "source": [
    "# df.hist(column='BasePay', figsize=(10, 6))\n",
    "# df.hist(column='OvertimePay', figsize=(10, 6)) \n",
    "# df.hist(column='OtherPay', figsize=(10, 6))\n",
    "# df.hist(column='Benefits', figsize=(10, 6))\n",
    "# df.hist(column='TotalPay', figsize=(10, 6))\n",
    "# df.hist(column='TotalPayBenefits', figsize=(10, 6))"
   ]
  },
  {
   "cell_type": "markdown",
   "metadata": {},
   "source": [
    "### 2. Group Berdasarkan Tahun"
   ]
  },
  {
   "cell_type": "code",
   "execution_count": 40,
   "metadata": {},
   "outputs": [],
   "source": [
    "# df['Year'].unique()\n",
    "\n",
    "# df.hist(column='BasePay', figsize=(12, 8), by='Year')\n",
    "# df.hist(column='OvertimePay', figsize=(12, 8)), by='Year') \n",
    "# df.hist(column='OtherPay', figsize=(12, 8)), by='Year')\n",
    "# df.hist(column='Benefits', figsize=(12, 8)), by='Year')\n",
    "# df.hist(column='TotalPay', figsize=(12, 8), by='Year')\n",
    "# df.hist(column='TotalPayBenefits', figsize=(12, 8), by='Year')"
   ]
  }
 ],
 "metadata": {
  "kernelspec": {
   "display_name": "Python 3",
   "language": "python",
   "name": "python3"
  },
  "language_info": {
   "codemirror_mode": {
    "name": "ipython",
    "version": 3
   },
   "file_extension": ".py",
   "mimetype": "text/x-python",
   "name": "python",
   "nbconvert_exporter": "python",
   "pygments_lexer": "ipython3",
   "version": "3.8.5"
  }
 },
 "nbformat": 4,
 "nbformat_minor": 5
}
