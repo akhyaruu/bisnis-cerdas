{
 "cells": [
  {
   "cell_type": "markdown",
   "id": "2a42442a",
   "metadata": {},
   "source": [
    "## Import Library"
   ]
  },
  {
   "cell_type": "code",
   "execution_count": 2,
   "id": "b8d5a34f",
   "metadata": {},
   "outputs": [],
   "source": [
    "import pandas as pd"
   ]
  },
  {
   "cell_type": "markdown",
   "id": "55c57c07",
   "metadata": {},
   "source": [
    "## Read Data"
   ]
  },
  {
   "cell_type": "code",
   "execution_count": 3,
   "id": "43d693c2",
   "metadata": {},
   "outputs": [],
   "source": [
    "df = pd.read_csv('data/pertemuan-pertama.csv')"
   ]
  },
  {
   "cell_type": "markdown",
   "id": "c9e570ab",
   "metadata": {},
   "source": [
    "## Eksplorasi Data"
   ]
  },
  {
   "cell_type": "code",
   "execution_count": 16,
   "id": "dc76c708",
   "metadata": {
    "scrolled": true
   },
   "outputs": [],
   "source": [
    "## melihat 5 baris pertama\n",
    "# df.head()"
   ]
  },
  {
   "cell_type": "code",
   "execution_count": 22,
   "id": "781206e4",
   "metadata": {},
   "outputs": [],
   "source": [
    "## melihat jumlah total baris dan kolom\n",
    "# df.shape\n",
    "\n",
    "## mengecek apakah ada kolom yang kosong\n",
    "# df.isna().sum()\n",
    "\n",
    "## mengecek tipe data pada kolom tertentu\n",
    "# df.dtypes\n",
    "\n",
    "## mengecek statistik deskriptif data numerik\n",
    "# df[['BasePay', 'OvertimePay', 'OtherPay', 'Benefits', 'TotalPay', 'TotalPayBenefits']].describe()"
   ]
  },
  {
   "cell_type": "markdown",
   "id": "73f8f5fd",
   "metadata": {},
   "source": [
    "## Visualisasi Data"
   ]
  },
  {
   "cell_type": "markdown",
   "id": "bf01cec5",
   "metadata": {},
   "source": [
    "### 1. Basic Histogram"
   ]
  },
  {
   "cell_type": "code",
   "execution_count": 23,
   "id": "8c736dff",
   "metadata": {},
   "outputs": [],
   "source": [
    "# df.hist(column='BasePay', figsize=(10, 6))\n",
    "# df.hist(column='OvertimePay', figsize=(10, 6)) \n",
    "# df.hist(column='OtherPay', figsize=(10, 6))\n",
    "# df.hist(column='Benefits', figsize=(10, 6))\n",
    "# df.hist(column='TotalPay', figsize=(10, 6))\n",
    "# df.hist(column='TotalPayBenefits', figsize=(10, 6))"
   ]
  },
  {
   "cell_type": "markdown",
   "id": "e36dadf0",
   "metadata": {},
   "source": [
    "### 2. Group Berdasarkan Tahun"
   ]
  },
  {
   "cell_type": "code",
   "execution_count": 40,
   "id": "f726d9ae",
   "metadata": {},
   "outputs": [],
   "source": [
    "# df['Year'].unique()\n",
    "\n",
    "# df.hist(column='BasePay', figsize=(12, 8), by='Year')\n",
    "# df.hist(column='OvertimePay', figsize=(12, 8)), by='Year') \n",
    "# df.hist(column='OtherPay', figsize=(12, 8)), by='Year')\n",
    "# df.hist(column='Benefits', figsize=(12, 8)), by='Year')\n",
    "# df.hist(column='TotalPay', figsize=(12, 8), by='Year')\n",
    "# df.hist(column='TotalPayBenefits', figsize=(12, 8), by='Year')"
   ]
  }
 ],
 "metadata": {
  "kernelspec": {
   "display_name": "Python 3 (ipykernel)",
   "language": "python",
   "name": "python3"
  },
  "language_info": {
   "codemirror_mode": {
    "name": "ipython",
    "version": 3
   },
   "file_extension": ".py",
   "mimetype": "text/x-python",
   "name": "python",
   "nbconvert_exporter": "python",
   "pygments_lexer": "ipython3",
   "version": "3.7.11"
  }
 },
 "nbformat": 4,
 "nbformat_minor": 5
}
